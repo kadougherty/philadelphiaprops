{
 "cells": [
  {
   "cell_type": "markdown",
   "id": "19b610c0",
   "metadata": {},
   "source": [
    "# predict philly property price"
   ]
  },
  {
   "cell_type": "markdown",
   "id": "1eff46c5",
   "metadata": {},
   "source": [
    "The goal of this project is to predict the value of homes in Philadelphia and identify features that drive up home value. \n",
    "\n",
    "Property data is sourced from OpenDataPhilly and the City of Philadelphia Office of Property Assement: https://www.phila.gov/property/data/#\n",
    "\n",
    "Info features in the dataset were downloaded from this url: https://metadata.phila.gov/#home/datasetdetails/5543865f20583086178c4ee5/representationdetails/55d624fdad35c7e854cb21a4/\n",
    "\n",
    "In addition to the information in the above dataset, additional information on school locations will be used to calculate proximity to schools: https://www.opendataphilly.org/dataset/schools/resource/8e1bb3e6-7fb5-4018-95f8-63b3fc420557"
   ]
  },
  {
   "cell_type": "code",
   "execution_count": 1,
   "id": "c1e482c5",
   "metadata": {},
   "outputs": [],
   "source": [
    "import pandas as pd\n",
    "import numpy as np\n",
    "import os\n",
    "import matplotlib.pyplot as plt\n",
    "import matplotlib.cm as cm\n",
    "import seaborn as sns\n",
    "import datetime as dt\n",
    "import time\n",
    "from sklearn.neighbors import BallTree\n",
    "from sklearn.metrics import DistanceMetric \n",
    "from geopy import distance as geo_distance\n",
    "import pickle"
   ]
  },
  {
   "cell_type": "code",
   "execution_count": 2,
   "id": "08f9a3ee",
   "metadata": {},
   "outputs": [],
   "source": [
    "df = pd.read_csv('raw_data/opa_properties_public.csv',low_memory=False)\n",
    "var = pd.read_csv('raw_data/fields.csv',low_memory=False)\n",
    "var = var.set_index('Field Name',drop=True)\n",
    "df = df.rename(columns={'view_type':'view'})"
   ]
  },
  {
   "cell_type": "markdown",
   "id": "0770f596",
   "metadata": {},
   "source": [
    "Drop unnecessary data columns:"
   ]
  },
  {
   "cell_type": "code",
   "execution_count": 3,
   "id": "0cce7a68",
   "metadata": {},
   "outputs": [],
   "source": [
    "droplist = ['the_geom','the_geom_webmercator','book_and_page','building_code','building_code_description',\\\n",
    "            'census_tract','cross_reference',\\\n",
    "            'date_exterior_condition','homestead_exemption',\\\n",
    "            'house_number','parcel_number','parcel_shape',\\\n",
    "            'registry_number','suffix','state_code','street_code',\\\n",
    "            'topography','pin','objectid','unit','owner_1','owner_2','zoning',\\\n",
    "            'beginning_point','exempt_land','exempt_building',\\\n",
    "            'general_construction','mailing_address_1',\\\n",
    "            'mailing_address_2','mailing_care_of','mailing_city_state',\\\n",
    "            'mailing_street','recording_date','sale_date','sale_price',\\\n",
    "            'site_type','street_name','taxable_building','other_building',\\\n",
    "            'house_extension','separate_utilities','taxable_land','market_value_date',\\\n",
    "            'off_street_open','location','market_value_date','fireplaces','geographic_ward']\n",
    "df = df.drop(droplist,axis=1)"
   ]
  },
  {
   "cell_type": "code",
   "execution_count": 4,
   "id": "967b2a5b",
   "metadata": {},
   "outputs": [],
   "source": [
    "for row in var.index:\n",
    "    if row not in df.columns:\n",
    "        var = var.drop(row)"
   ]
  },
  {
   "cell_type": "markdown",
   "id": "89d44ddd",
   "metadata": {},
   "source": [
    "Wrote a dictionary of dictionaries based on more length text info in fields.csv"
   ]
  },
  {
   "cell_type": "code",
   "execution_count": 5,
   "id": "1211cb28",
   "metadata": {},
   "outputs": [],
   "source": [
    "catdict = {'basements':{'0':'none','A':'full finished','B':'full semi-finished','C':'full unfinished','D':'full unknown finish',\\\n",
    "                       'E':'partial finished','F':'partial semi-finished','G':'partial unfinished','H':'partial unknown finish',\\\n",
    "                       'I':'finished-unknown size','J':'unfinished-unknown size'},\\\n",
    "          'garage_type':{'0':'none','A':'built in basement','B':'attached garage','C':'detached garage',\\\n",
    "                        'F':'converted'},\\\n",
    "          'type_heater':{'H':'undetermined','A':'hot air (ducts)','B':'hot water (radiators/baseboards)','G':'radiant',\\\n",
    "                         'C':'electric baseboard','E':'other','D':'heat pump (outside unit)'},\\\n",
    "          'view':{'0':'na','I':'typical','A':'cityscape','C':'park/green area','B':'flowing water'}}"
   ]
  },
  {
   "cell_type": "markdown",
   "id": "ae0ee84d",
   "metadata": {},
   "source": [
    "Filtering data to only consider single family homes (exclude vacant land, multiuse props etc):"
   ]
  },
  {
   "cell_type": "code",
   "execution_count": 6,
   "id": "c715e735",
   "metadata": {},
   "outputs": [],
   "source": [
    "df = df[df['category_code_description'].isin(['Single Family'])]\n",
    "df  = df.drop(['category_code_description','category_code'],axis=1)"
   ]
  },
  {
   "cell_type": "markdown",
   "id": "9949102f",
   "metadata": {},
   "source": [
    "Drop rows where the property is unfinished:"
   ]
  },
  {
   "cell_type": "code",
   "execution_count": 7,
   "id": "5171cbe2",
   "metadata": {},
   "outputs": [],
   "source": [
    "df = df[df.unfinished != 'U']"
   ]
  },
  {
   "cell_type": "markdown",
   "id": "8c9c29b6",
   "metadata": {},
   "source": [
    "Drop rows where there is no estimate of the year the property was built:"
   ]
  },
  {
   "cell_type": "code",
   "execution_count": 8,
   "id": "06f354ec",
   "metadata": {},
   "outputs": [],
   "source": [
    "df = df[df['year_built_estimate'] == 'Y']\n",
    "df = df.drop('year_built_estimate',axis=1)\n",
    "df['year_built'] = df['year_built'].astype('int')"
   ]
  },
  {
   "cell_type": "markdown",
   "id": "856f8593",
   "metadata": {},
   "source": [
    "Drop columns where more than half of the rows are NaNs:"
   ]
  },
  {
   "cell_type": "code",
   "execution_count": 9,
   "id": "03c36c9e",
   "metadata": {},
   "outputs": [],
   "source": [
    "nas_dropcol = list()\n",
    "for column in df:\n",
    "    if df[column].isna().sum()/len(df[column]) > 0.5:\n",
    "        nas_dropcol.append(column)\n",
    "df = df.drop(nas_dropcol,axis=1)\n",
    "for row in var.index:\n",
    "    if row not in df.columns:\n",
    "        var = var.drop(row)"
   ]
  },
  {
   "cell_type": "code",
   "execution_count": 10,
   "id": "392ba0af",
   "metadata": {},
   "outputs": [
    {
     "name": "stdout",
     "output_type": "stream",
     "text": [
      "will use saved csv file. if columns change, need to update the datatype in the csv file and reload\n"
     ]
    }
   ],
   "source": [
    "print('will use saved csv file. if columns change, need to update the datatype in the csv file and reload')\n",
    "#time = dt.datetime.now()\n",
    "#ts = \"{:d}{:02d}\".format(time.hour, time.minute)\n",
    "#fname = 'interim_data/fields_stripped_' + ts + '.csv'\n",
    "#var.to_csv(fname)"
   ]
  },
  {
   "cell_type": "code",
   "execution_count": 12,
   "id": "6b1131ba",
   "metadata": {},
   "outputs": [
    {
     "name": "stdout",
     "output_type": "stream",
     "text": [
      "loading data types...\n"
     ]
    }
   ],
   "source": [
    "print('loading data types...')\n",
    "ts = '1552'\n",
    "fname = 'interim_data/fields_stripped_' + ts + '.csv'\n",
    "ivar = pd.read_csv(fname)\n",
    "ivar = ivar.set_index('Field Name')"
   ]
  },
  {
   "cell_type": "markdown",
   "id": "9f1fa25d",
   "metadata": {},
   "source": [
    "Fix data type using 'Type' column from ivar df (from csv file):"
   ]
  },
  {
   "cell_type": "code",
   "execution_count": 13,
   "id": "92fcfa6d",
   "metadata": {},
   "outputs": [],
   "source": [
    "for column in df:\n",
    "    mantype = ivar['Type'][ivar.index == column][0]    \n",
    "    if mantype == 'cat':\n",
    "        df[column] = df[column].astype('category',errors='ignore')\n",
    "    elif mantype == 'num':\n",
    "        df[column] = df[column].astype('float')\n",
    "    elif mantype == 'logical':\n",
    "        df[column] = df[column].replace({'Y':1,'N':0,'y':1,'n':0,'1':1,'0':0})\n",
    "        df[column] = df[column].astype('category',errors='ignore')\n",
    "    elif mantype == 'date':\n",
    "        continue\n",
    "    else:\n",
    "        print(column + \" needs data type\")"
   ]
  },
  {
   "cell_type": "markdown",
   "id": "478ac9e8",
   "metadata": {},
   "source": [
    "Check for columns that still have a large proportion of missing values:"
   ]
  },
  {
   "cell_type": "code",
   "execution_count": 14,
   "id": "900c11c3",
   "metadata": {},
   "outputs": [
    {
     "data": {
      "text/html": [
       "<div>\n",
       "<style scoped>\n",
       "    .dataframe tbody tr th:only-of-type {\n",
       "        vertical-align: middle;\n",
       "    }\n",
       "\n",
       "    .dataframe tbody tr th {\n",
       "        vertical-align: top;\n",
       "    }\n",
       "\n",
       "    .dataframe thead th {\n",
       "        text-align: right;\n",
       "    }\n",
       "</style>\n",
       "<table border=\"1\" class=\"dataframe\">\n",
       "  <thead>\n",
       "    <tr style=\"text-align: right;\">\n",
       "      <th></th>\n",
       "      <th>index</th>\n",
       "      <th>propna</th>\n",
       "    </tr>\n",
       "  </thead>\n",
       "  <tbody>\n",
       "    <tr>\n",
       "      <th>0</th>\n",
       "      <td>central_air</td>\n",
       "      <td>0.447066</td>\n",
       "    </tr>\n",
       "    <tr>\n",
       "      <th>1</th>\n",
       "      <td>type_heater</td>\n",
       "      <td>0.412132</td>\n",
       "    </tr>\n",
       "    <tr>\n",
       "      <th>2</th>\n",
       "      <td>basements</td>\n",
       "      <td>0.339402</td>\n",
       "    </tr>\n",
       "    <tr>\n",
       "      <th>3</th>\n",
       "      <td>number_of_rooms</td>\n",
       "      <td>0.101401</td>\n",
       "    </tr>\n",
       "    <tr>\n",
       "      <th>4</th>\n",
       "      <td>garage_type</td>\n",
       "      <td>0.100679</td>\n",
       "    </tr>\n",
       "  </tbody>\n",
       "</table>\n",
       "</div>"
      ],
      "text/plain": [
       "             index    propna\n",
       "0      central_air  0.447066\n",
       "1      type_heater  0.412132\n",
       "2        basements  0.339402\n",
       "3  number_of_rooms  0.101401\n",
       "4      garage_type  0.100679"
      ]
     },
     "execution_count": 14,
     "metadata": {},
     "output_type": "execute_result"
    }
   ],
   "source": [
    "prop_na = df.isna().sum().sort_values(ascending=False)/df.shape[0]\n",
    "pndf = pd.DataFrame(data=prop_na,columns=['propna'])\n",
    "pndf = pndf.reset_index()\n",
    "pndf.head()"
   ]
  },
  {
   "cell_type": "markdown",
   "id": "af44bf8d",
   "metadata": {},
   "source": [
    "Fill the the below columns with their mode (excluding NaNs):"
   ]
  },
  {
   "cell_type": "code",
   "execution_count": 15,
   "id": "99fa248e",
   "metadata": {},
   "outputs": [],
   "source": [
    "df['central_air'] = df['central_air'].fillna(int(df['central_air'].mode(dropna=True)))\n",
    "heat_mode = df['type_heater'].mode(dropna=True).values[0]\n",
    "df['type_heater'] = df['type_heater'].fillna(value=heat_mode)\n",
    "base_mode = df['basements'].mode(dropna=True).values[0]\n",
    "df['basements'] = df['basements'].fillna(value=base_mode)\n",
    "gar_mode = df['garage_type'].mode(dropna=True).values[0]\n",
    "df['garage_type'] = df['garage_type'].fillna(value=gar_mode)"
   ]
  },
  {
   "cell_type": "markdown",
   "id": "2493a7e4",
   "metadata": {},
   "source": [
    "If the number of bathrooms or rooms is 0, assume it's important missing info and drop"
   ]
  },
  {
   "cell_type": "code",
   "execution_count": 16,
   "id": "30845e40",
   "metadata": {},
   "outputs": [],
   "source": [
    "df = df[df['number_of_rooms'] > 0]\n",
    "df = df[df['number_of_bathrooms'] > 0]\n",
    "df = df[df['number_stories'] > 0]"
   ]
  },
  {
   "cell_type": "markdown",
   "id": "a060de63",
   "metadata": {},
   "source": [
    "Now how many nans remain across the columns?"
   ]
  },
  {
   "cell_type": "code",
   "execution_count": 17,
   "id": "f7e5c7dc",
   "metadata": {},
   "outputs": [
    {
     "data": {
      "text/html": [
       "<div>\n",
       "<style scoped>\n",
       "    .dataframe tbody tr th:only-of-type {\n",
       "        vertical-align: middle;\n",
       "    }\n",
       "\n",
       "    .dataframe tbody tr th {\n",
       "        vertical-align: top;\n",
       "    }\n",
       "\n",
       "    .dataframe thead th {\n",
       "        text-align: right;\n",
       "    }\n",
       "</style>\n",
       "<table border=\"1\" class=\"dataframe\">\n",
       "  <thead>\n",
       "    <tr style=\"text-align: right;\">\n",
       "      <th></th>\n",
       "      <th>index</th>\n",
       "      <th>propna</th>\n",
       "    </tr>\n",
       "  </thead>\n",
       "  <tbody>\n",
       "    <tr>\n",
       "      <th>0</th>\n",
       "      <td>view</td>\n",
       "      <td>0.000044</td>\n",
       "    </tr>\n",
       "    <tr>\n",
       "      <th>1</th>\n",
       "      <td>garage_spaces</td>\n",
       "      <td>0.000013</td>\n",
       "    </tr>\n",
       "    <tr>\n",
       "      <th>2</th>\n",
       "      <td>interior_condition</td>\n",
       "      <td>0.000013</td>\n",
       "    </tr>\n",
       "    <tr>\n",
       "      <th>3</th>\n",
       "      <td>basements</td>\n",
       "      <td>0.000000</td>\n",
       "    </tr>\n",
       "    <tr>\n",
       "      <th>4</th>\n",
       "      <td>number_stories</td>\n",
       "      <td>0.000000</td>\n",
       "    </tr>\n",
       "  </tbody>\n",
       "</table>\n",
       "</div>"
      ],
      "text/plain": [
       "                index    propna\n",
       "0                view  0.000044\n",
       "1       garage_spaces  0.000013\n",
       "2  interior_condition  0.000013\n",
       "3           basements  0.000000\n",
       "4      number_stories  0.000000"
      ]
     },
     "execution_count": 17,
     "metadata": {},
     "output_type": "execute_result"
    }
   ],
   "source": [
    "prop_na = df.isna().sum().sort_values(ascending=False)/df.shape[0]\n",
    "pndf = pd.DataFrame(data=prop_na,columns=['propna'])\n",
    "pndf = pndf.reset_index()\n",
    "pndf.head()"
   ]
  },
  {
   "cell_type": "markdown",
   "id": "6095b49c",
   "metadata": {},
   "source": [
    "Because the proportions of nans are minimal for those that remain, drop these rows from the dataset:"
   ]
  },
  {
   "cell_type": "code",
   "execution_count": 19,
   "id": "943b15d5",
   "metadata": {},
   "outputs": [],
   "source": [
    "df = df.dropna(axis=0)"
   ]
  },
  {
   "cell_type": "markdown",
   "id": "cfd86642",
   "metadata": {},
   "source": [
    "Confirm the data is free of nans now:"
   ]
  },
  {
   "cell_type": "code",
   "execution_count": 20,
   "id": "96c06b1f",
   "metadata": {},
   "outputs": [
    {
     "name": "stdout",
     "output_type": "stream",
     "text": [
      "free of null values\n",
      "new shape: (228899, 22)\n"
     ]
    }
   ],
   "source": [
    "if df.isna().sum().any():\n",
    "    print('fix null values')\n",
    "else:\n",
    "    print('free of null values')\n",
    "print('new shape: ' + str(df.shape))"
   ]
  },
  {
   "cell_type": "markdown",
   "id": "f17a8c4b",
   "metadata": {},
   "source": [
    "Get rid of outliers:"
   ]
  },
  {
   "cell_type": "code",
   "execution_count": 21,
   "id": "614968e9",
   "metadata": {},
   "outputs": [],
   "source": [
    "def getBoundsForOutlierDetection(df,column,qlo,qhi):\n",
    "    lobound = df[column].quantile(qlo)\n",
    "    hibound = df[column].quantile(qhi)\n",
    "    iqr = hibound - lobound\n",
    "    upper = hibound + 1.5 * iqr\n",
    "    lower = lobound - 1.5 * iqr\n",
    "    return lower, upper"
   ]
  },
  {
   "cell_type": "code",
   "execution_count": 22,
   "id": "60ad54f9",
   "metadata": {},
   "outputs": [],
   "source": [
    "df['zip_code'] = df['zip_code'].astype('int')\n",
    "ignore = ['lat','lng']"
   ]
  },
  {
   "cell_type": "code",
   "execution_count": 23,
   "id": "0893d015",
   "metadata": {},
   "outputs": [],
   "source": [
    "graded  = ['interior_condition','exterior_condition']\n",
    "schdist = ['km_to_elementary', 'km_to_middle', 'km_to_high']\n",
    "loc     = ['lat','lng']\n",
    "exclude = list()\n",
    "for i in schdist:\n",
    "    exclude.append(i)\n",
    "for i in loc:\n",
    "    exclude.append(i)\n",
    "for i in graded:\n",
    "    exclude.append(i)   \n",
    "predictors = [column for column in df.select_dtypes('float').columns if column not in exclude]"
   ]
  },
  {
   "cell_type": "code",
   "execution_count": 24,
   "id": "e9f368a8",
   "metadata": {},
   "outputs": [],
   "source": [
    "discrete  = list()\n",
    "continous = list()\n",
    "for x in predictors:\n",
    "    if x.__contains__('number'):\n",
    "        discrete.append(x)\n",
    "discrete.append('garage_spaces')\n",
    "\n",
    "for x in predictors:\n",
    "    if x not in discrete:\n",
    "        continous.append(x)\n",
    "continous.append('year_built')"
   ]
  },
  {
   "cell_type": "code",
   "execution_count": 25,
   "id": "38f4539f",
   "metadata": {},
   "outputs": [],
   "source": [
    "for column in continous:\n",
    "    if column in ignore:\n",
    "        continue\n",
    "    lower, upper = getBoundsForOutlierDetection(df,column,qlo=0.25,qhi=0.75)\n",
    "    df = df[(df[column] >= lower) & (df[column] <= upper)]"
   ]
  },
  {
   "cell_type": "markdown",
   "id": "c156ebf7",
   "metadata": {},
   "source": [
    "Drop values not in dictionary for columns in dictionary (missing info):"
   ]
  },
  {
   "cell_type": "code",
   "execution_count": 26,
   "id": "619b63ef",
   "metadata": {},
   "outputs": [
    {
     "name": "stdout",
     "output_type": "stream",
     "text": [
      "basements values remaining after drop: 173001\n",
      "garage_type values remaining after drop: 172985\n",
      "type_heater values remaining after drop: 172268\n",
      "view values remaining after drop: 169548\n"
     ]
    }
   ],
   "source": [
    "these_columns = list(catdict.keys())\n",
    "for column in these_columns:\n",
    "    unqvals = list(df[column].unique())\n",
    "    ok_vals = list(catdict[column].keys())\n",
    "    rm_vals = [x for x in unqvals if x not in ok_vals]\n",
    "    for value in rm_vals:\n",
    "        df = df[df[column] != value]\n",
    "    print(column + ' values remaining after drop: ' + str(df.shape[0]))"
   ]
  },
  {
   "cell_type": "markdown",
   "id": "0c57f78f",
   "metadata": {},
   "source": [
    "Check value counts for categorical variables and drop rarely occuring values:"
   ]
  },
  {
   "cell_type": "code",
   "execution_count": 27,
   "id": "2b8a2bce",
   "metadata": {},
   "outputs": [],
   "source": [
    "for catcol in df.select_dtypes('category').columns:\n",
    "    prop = df[catcol].value_counts(normalize=True).reset_index()\n",
    "    rm_vals = list(prop['index'][prop[catcol] < 0.005])\n",
    "    for value in rm_vals:\n",
    "        df = df[df[catcol] != value]"
   ]
  },
  {
   "cell_type": "code",
   "execution_count": 28,
   "id": "d20578f3",
   "metadata": {},
   "outputs": [],
   "source": [
    "for column in discrete:\n",
    "    prop = df[column].value_counts(normalize=True).reset_index()\n",
    "    rm_vals = list(prop['index'][prop[column] < 0.005])\n",
    "    for value in rm_vals:\n",
    "        df = df[df[column] != value]"
   ]
  },
  {
   "cell_type": "markdown",
   "id": "11ba1a74",
   "metadata": {},
   "source": [
    "Now subsample the dataframe for easier computing (running locally):"
   ]
  },
  {
   "cell_type": "code",
   "execution_count": 29,
   "id": "a93d5cc8",
   "metadata": {},
   "outputs": [],
   "source": [
    "df = df.sample(n=15000)"
   ]
  },
  {
   "cell_type": "markdown",
   "id": "10118313",
   "metadata": {},
   "source": [
    "Read in location info for schools:"
   ]
  },
  {
   "cell_type": "code",
   "execution_count": 30,
   "id": "b5f68294",
   "metadata": {},
   "outputs": [],
   "source": [
    "schools = pd.read_csv('raw_data/Schools.csv',low_memory=False)\n",
    "schools=schools.drop(['OBJECTID','AUN','SCHOOL_NUM','SCHOOL_NAME',\\\n",
    "                     'SCHOOL_NAME_LABEL','STREET_ADDRESS',\\\n",
    "                     'ZIP_CODE','PHONE_NUMBER','GRADE_ORG',\\\n",
    "                     'ENROLLMENT','TYPE','LOCATION_ID','ACTIVE'],axis=1)\n",
    "schools.rename(columns={'X':'lng','Y':'lat'},inplace=True)\n",
    "schools['elementary'] = schools['GRADE_LEVEL'].str.contains('ELEMENTARY')\n",
    "schools['middle'] = schools['GRADE_LEVEL'].str.contains('MIDDLE')\n",
    "schools['high'] = schools['GRADE_LEVEL'].str.contains('HIGH')"
   ]
  },
  {
   "cell_type": "code",
   "execution_count": 31,
   "id": "55ffed36",
   "metadata": {},
   "outputs": [],
   "source": [
    "def findShortestDistToSchool(schools,df,school_type):\n",
    "    start = time.time()\n",
    "    filt_schools = schools[['lat','lng']][schools[school_type] == True]\n",
    "    coords = np.radians(filt_schools[['lat', 'lng']])\n",
    "    tree = BallTree(coords, metric=DistanceMetric.get_metric('cityblock'))\n",
    "    minll = list()\n",
    "    minkm = list()\n",
    "    nearestschool = list()\n",
    "    for idx in df.index:\n",
    "        house_coord = np.array(df[['lat','lng']].loc[idx])\n",
    "        r_house_coord = np.radians(house_coord)\n",
    "        mindist, near_school_idx = tree.query([r_house_coord], k=1)\n",
    "        nsi = int(near_school_idx)\n",
    "        nearestschool.append(np.array(filt_schools[['lat','lng']].iloc[nsi]))\n",
    "        minll.append(mindist)\n",
    "        minkm.append(geo_distance.distance(np.array(filt_schools[['lat','lng']].iloc[nsi]),house_coord).km)\n",
    "    print('elapsed t: ' + str(time.time() - start))\n",
    "    return minll,minkm,nearestschool"
   ]
  },
  {
   "cell_type": "code",
   "execution_count": 32,
   "id": "3cd35b02",
   "metadata": {},
   "outputs": [
    {
     "name": "stdout",
     "output_type": "stream",
     "text": [
      "elapsed t: 15.296080112457275\n",
      "elapsed t: 15.664908647537231\n",
      "elapsed t: 19.819714784622192\n"
     ]
    }
   ],
   "source": [
    "ell,ekm,ens = findShortestDistToSchool(schools,df,'elementary')\n",
    "mll,mkm,mns = findShortestDistToSchool(schools,df,'middle')\n",
    "hll,hkm,hns = findShortestDistToSchool(schools,df,'high')"
   ]
  },
  {
   "cell_type": "code",
   "execution_count": 33,
   "id": "e06f93c7",
   "metadata": {},
   "outputs": [],
   "source": [
    "df['km_to_elementary'] = ekm\n",
    "df['km_to_middle'] = mkm\n",
    "df['km_to_high'] = hkm"
   ]
  },
  {
   "cell_type": "code",
   "execution_count": 34,
   "id": "12e58b6e",
   "metadata": {},
   "outputs": [],
   "source": [
    "df.to_pickle('interim_data/df_cleaned')"
   ]
  }
 ],
 "metadata": {
  "kernelspec": {
   "display_name": "Python 3 (ipykernel)",
   "language": "python",
   "name": "python3"
  },
  "language_info": {
   "codemirror_mode": {
    "name": "ipython",
    "version": 3
   },
   "file_extension": ".py",
   "mimetype": "text/x-python",
   "name": "python",
   "nbconvert_exporter": "python",
   "pygments_lexer": "ipython3",
   "version": "3.9.13"
  }
 },
 "nbformat": 4,
 "nbformat_minor": 5
}
